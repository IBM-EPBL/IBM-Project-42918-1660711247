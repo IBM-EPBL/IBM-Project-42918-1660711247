{
 "cells": [
  {
   "cell_type": "code",
   "execution_count": 1,
   "id": "ac76b389",
   "metadata": {},
   "outputs": [
    {
     "name": "stdout",
     "output_type": "stream",
     "text": [
      "Collecting ibm_watson_machine_learning\n",
      "  Downloading ibm_watson_machine_learning-1.0.257-py3-none-any.whl (1.8 MB)\n",
      "     ---------------------------------------- 1.8/1.8 MB 7.2 MB/s eta 0:00:00\n",
      "Collecting ibm-cos-sdk==2.12.*\n",
      "  Downloading ibm-cos-sdk-2.12.0.tar.gz (55 kB)\n",
      "     ---------------------------------------- 55.6/55.6 kB ? eta 0:00:00\n",
      "  Preparing metadata (setup.py): started\n",
      "  Preparing metadata (setup.py): finished with status 'done'\n",
      "Collecting tabulate\n",
      "  Downloading tabulate-0.9.0-py3-none-any.whl (35 kB)\n",
      "Collecting certifi\n",
      "  Downloading certifi-2022.9.24-py3-none-any.whl (161 kB)\n",
      "     -------------------------------------- 161.1/161.1 kB 9.4 MB/s eta 0:00:00\n",
      "Requirement already satisfied: packaging in c:\\users\\andre\\appdata\\local\\packages\\pythonsoftwarefoundation.python.3.10_qbz5n2kfra8p0\\localcache\\local-packages\\python310\\site-packages (from ibm_watson_machine_learning) (21.3)\n",
      "Collecting lomond\n",
      "  Downloading lomond-0.3.3-py2.py3-none-any.whl (35 kB)\n",
      "Collecting requests\n",
      "  Downloading requests-2.28.1-py3-none-any.whl (62 kB)\n",
      "     ---------------------------------------- 62.8/62.8 kB ? eta 0:00:00\n",
      "Collecting pandas<1.5.0,>=0.24.2\n",
      "  Downloading pandas-1.4.4-cp310-cp310-win_amd64.whl (10.0 MB)\n",
      "     --------------------------------------- 10.0/10.0 MB 10.3 MB/s eta 0:00:00\n",
      "Collecting importlib-metadata\n",
      "  Downloading importlib_metadata-5.0.0-py3-none-any.whl (21 kB)\n",
      "Collecting urllib3\n",
      "  Downloading urllib3-1.26.12-py2.py3-none-any.whl (140 kB)\n",
      "     -------------------------------------- 140.4/140.4 kB 8.1 MB/s eta 0:00:00\n",
      "Collecting ibm-cos-sdk-core==2.12.0\n",
      "  Downloading ibm-cos-sdk-core-2.12.0.tar.gz (956 kB)\n",
      "     -------------------------------------- 956.8/956.8 kB 7.6 MB/s eta 0:00:00\n",
      "  Preparing metadata (setup.py): started\n",
      "  Preparing metadata (setup.py): finished with status 'done'\n",
      "Collecting ibm-cos-sdk-s3transfer==2.12.0\n",
      "  Downloading ibm-cos-sdk-s3transfer-2.12.0.tar.gz (135 kB)\n",
      "     -------------------------------------- 135.7/135.7 kB 7.8 MB/s eta 0:00:00\n",
      "  Preparing metadata (setup.py): started\n",
      "  Preparing metadata (setup.py): finished with status 'done'\n",
      "Collecting jmespath<1.0.0,>=0.10.0\n",
      "  Downloading jmespath-0.10.0-py2.py3-none-any.whl (24 kB)\n",
      "Requirement already satisfied: python-dateutil<3.0.0,>=2.8.2 in c:\\users\\andre\\appdata\\local\\packages\\pythonsoftwarefoundation.python.3.10_qbz5n2kfra8p0\\localcache\\local-packages\\python310\\site-packages (from ibm-cos-sdk-core==2.12.0->ibm-cos-sdk==2.12.*->ibm_watson_machine_learning) (2.8.2)\n",
      "Collecting numpy>=1.21.0\n",
      "  Downloading numpy-1.23.4-cp310-cp310-win_amd64.whl (14.6 MB)\n",
      "     --------------------------------------- 14.6/14.6 MB 10.9 MB/s eta 0:00:00\n",
      "Collecting pytz>=2020.1\n",
      "  Downloading pytz-2022.6-py2.py3-none-any.whl (498 kB)\n",
      "     -------------------------------------- 498.1/498.1 kB 5.2 MB/s eta 0:00:00\n",
      "Collecting idna<4,>=2.5\n",
      "  Downloading idna-3.4-py3-none-any.whl (61 kB)\n",
      "     ---------------------------------------- 61.5/61.5 kB ? eta 0:00:00\n",
      "Collecting charset-normalizer<3,>=2\n",
      "  Downloading charset_normalizer-2.1.1-py3-none-any.whl (39 kB)\n",
      "Collecting zipp>=0.5\n",
      "  Downloading zipp-3.10.0-py3-none-any.whl (6.2 kB)\n",
      "Requirement already satisfied: six>=1.10.0 in c:\\users\\andre\\appdata\\local\\packages\\pythonsoftwarefoundation.python.3.10_qbz5n2kfra8p0\\localcache\\local-packages\\python310\\site-packages (from lomond->ibm_watson_machine_learning) (1.16.0)\n",
      "Requirement already satisfied: pyparsing!=3.0.5,>=2.0.2 in c:\\users\\andre\\appdata\\local\\packages\\pythonsoftwarefoundation.python.3.10_qbz5n2kfra8p0\\localcache\\local-packages\\python310\\site-packages (from packaging->ibm_watson_machine_learning) (3.0.9)\n",
      "Using legacy 'setup.py install' for ibm-cos-sdk, since package 'wheel' is not installed.\n",
      "Using legacy 'setup.py install' for ibm-cos-sdk-core, since package 'wheel' is not installed.\n",
      "Using legacy 'setup.py install' for ibm-cos-sdk-s3transfer, since package 'wheel' is not installed.\n",
      "Installing collected packages: pytz, zipp, urllib3, tabulate, numpy, lomond, jmespath, idna, charset-normalizer, certifi, requests, pandas, importlib-metadata, ibm-cos-sdk-core, ibm-cos-sdk-s3transfer, ibm-cos-sdk, ibm_watson_machine_learning\n",
      "  Running setup.py install for ibm-cos-sdk-core: started\n",
      "  Running setup.py install for ibm-cos-sdk-core: finished with status 'done'\n",
      "  Running setup.py install for ibm-cos-sdk-s3transfer: started\n",
      "  Running setup.py install for ibm-cos-sdk-s3transfer: finished with status 'done'\n",
      "  Running setup.py install for ibm-cos-sdk: started\n",
      "  Running setup.py install for ibm-cos-sdk: finished with status 'done'\n",
      "Note: you may need to restart the kernel to use updated packages.\n"
     ]
    },
    {
     "name": "stderr",
     "output_type": "stream",
     "text": [
      "  WARNING: The script tabulate.exe is installed in 'C:\\Users\\andre\\AppData\\Local\\Packages\\PythonSoftwareFoundation.Python.3.10_qbz5n2kfra8p0\\LocalCache\\local-packages\\Python310\\Scripts' which is not on PATH.\n",
      "  Consider adding this directory to PATH or, if you prefer to suppress this warning, use --no-warn-script-location.\n",
      "  WARNING: The script f2py.exe is installed in 'C:\\Users\\andre\\AppData\\Local\\Packages\\PythonSoftwareFoundation.Python.3.10_qbz5n2kfra8p0\\LocalCache\\local-packages\\Python310\\Scripts' which is not on PATH.\n",
      "  Consider adding this directory to PATH or, if you prefer to suppress this warning, use --no-warn-script-location.\n",
      "  WARNING: The script normalizer.exe is installed in 'C:\\Users\\andre\\AppData\\Local\\Packages\\PythonSoftwareFoundation.Python.3.10_qbz5n2kfra8p0\\LocalCache\\local-packages\\Python310\\Scripts' which is not on PATH.\n",
      "  Consider adding this directory to PATH or, if you prefer to suppress this warning, use --no-warn-script-location.\n",
      "ERROR: Could not install packages due to an OSError: [Errno 2] No such file or directory: 'C:\\\\Users\\\\andre\\\\AppData\\\\Local\\\\Packages\\\\PythonSoftwareFoundation.Python.3.10_qbz5n2kfra8p0\\\\LocalCache\\\\local-packages\\\\Python310\\\\site-packages\\\\ibm_watson_machine_learning\\\\libs\\\\repo\\\\swagger_client\\\\models\\\\hyper_parameters_optimization_experiments_method_parameters.py'\n",
      "HINT: This error might have occurred since this system does not have Windows Long Path support enabled. You can find information on how to enable this at https://pip.pypa.io/warnings/enable-long-paths\n",
      "\n",
      "\n",
      "[notice] A new release of pip available: 22.2.1 -> 22.3.1\n",
      "[notice] To update, run: C:\\Users\\andre\\AppData\\Local\\Microsoft\\WindowsApps\\PythonSoftwareFoundation.Python.3.10_qbz5n2kfra8p0\\python.exe -m pip install --upgrade pip\n"
     ]
    }
   ],
   "source": [
    "pip install ibm_watson_machine_learning"
   ]
  },
  {
   "cell_type": "code",
   "execution_count": 2,
   "id": "67ad9745",
   "metadata": {},
   "outputs": [
    {
     "ename": "PackageNotFoundError",
     "evalue": "No package metadata was found for ibm-watson-machine-learning",
     "output_type": "error",
     "traceback": [
      "\u001b[1;31m---------------------------------------------------------------------------\u001b[0m",
      "\u001b[1;31mPackageNotFoundError\u001b[0m                      Traceback (most recent call last)",
      "File \u001b[1;32m~\\AppData\\Local\\Packages\\PythonSoftwareFoundation.Python.3.10_qbz5n2kfra8p0\\LocalCache\\local-packages\\Python310\\site-packages\\ibm_watson_machine_learning\\__init__.py:19\u001b[0m\n\u001b[0;32m     18\u001b[0m     \u001b[39mfrom\u001b[39;00m \u001b[39mimportlib\u001b[39;00m\u001b[39m.\u001b[39;00m\u001b[39mmetadata\u001b[39;00m \u001b[39mimport\u001b[39;00m version\n\u001b[1;32m---> 19\u001b[0m     version \u001b[39m=\u001b[39m version(pkg_name)\n\u001b[0;32m     21\u001b[0m \u001b[39mexcept\u001b[39;00m (\u001b[39mModuleNotFoundError\u001b[39;00m, \u001b[39mAttributeError\u001b[39;00m):\n",
      "File \u001b[1;32mC:\\Program Files\\WindowsApps\\PythonSoftwareFoundation.Python.3.10_3.10.1776.0_x64__qbz5n2kfra8p0\\lib\\importlib\\metadata\\__init__.py:984\u001b[0m, in \u001b[0;36mversion\u001b[1;34m(distribution_name)\u001b[0m\n\u001b[0;32m    978\u001b[0m \u001b[39m\"\"\"Get the version string for the named package.\u001b[39;00m\n\u001b[0;32m    979\u001b[0m \n\u001b[0;32m    980\u001b[0m \u001b[39m:param distribution_name: The name of the distribution package to query.\u001b[39;00m\n\u001b[0;32m    981\u001b[0m \u001b[39m:return: The version string for the package as defined in the package's\u001b[39;00m\n\u001b[0;32m    982\u001b[0m \u001b[39m    \"Version\" metadata key.\u001b[39;00m\n\u001b[0;32m    983\u001b[0m \u001b[39m\"\"\"\u001b[39;00m\n\u001b[1;32m--> 984\u001b[0m \u001b[39mreturn\u001b[39;00m distribution(distribution_name)\u001b[39m.\u001b[39mversion\n",
      "File \u001b[1;32mC:\\Program Files\\WindowsApps\\PythonSoftwareFoundation.Python.3.10_3.10.1776.0_x64__qbz5n2kfra8p0\\lib\\importlib\\metadata\\__init__.py:957\u001b[0m, in \u001b[0;36mdistribution\u001b[1;34m(distribution_name)\u001b[0m\n\u001b[0;32m    952\u001b[0m \u001b[39m\"\"\"Get the ``Distribution`` instance for the named package.\u001b[39;00m\n\u001b[0;32m    953\u001b[0m \n\u001b[0;32m    954\u001b[0m \u001b[39m:param distribution_name: The name of the distribution package as a string.\u001b[39;00m\n\u001b[0;32m    955\u001b[0m \u001b[39m:return: A ``Distribution`` instance (or subclass thereof).\u001b[39;00m\n\u001b[0;32m    956\u001b[0m \u001b[39m\"\"\"\u001b[39;00m\n\u001b[1;32m--> 957\u001b[0m \u001b[39mreturn\u001b[39;00m Distribution\u001b[39m.\u001b[39;49mfrom_name(distribution_name)\n",
      "File \u001b[1;32mC:\\Program Files\\WindowsApps\\PythonSoftwareFoundation.Python.3.10_3.10.1776.0_x64__qbz5n2kfra8p0\\lib\\importlib\\metadata\\__init__.py:548\u001b[0m, in \u001b[0;36mDistribution.from_name\u001b[1;34m(cls, name)\u001b[0m\n\u001b[0;32m    547\u001b[0m \u001b[39melse\u001b[39;00m:\n\u001b[1;32m--> 548\u001b[0m     \u001b[39mraise\u001b[39;00m PackageNotFoundError(name)\n",
      "\u001b[1;31mPackageNotFoundError\u001b[0m: No package metadata was found for ibm-watson-machine-learning",
      "\nDuring handling of the above exception, another exception occurred:\n",
      "\u001b[1;31mStopIteration\u001b[0m                             Traceback (most recent call last)",
      "File \u001b[1;32m~\\AppData\\Local\\Packages\\PythonSoftwareFoundation.Python.3.10_qbz5n2kfra8p0\\LocalCache\\local-packages\\Python310\\site-packages\\importlib_metadata\\__init__.py:381\u001b[0m, in \u001b[0;36mDistribution.from_name\u001b[1;34m(cls, name)\u001b[0m\n\u001b[0;32m    380\u001b[0m \u001b[39mtry\u001b[39;00m:\n\u001b[1;32m--> 381\u001b[0m     \u001b[39mreturn\u001b[39;00m \u001b[39mnext\u001b[39;49m(\u001b[39mcls\u001b[39;49m\u001b[39m.\u001b[39;49mdiscover(name\u001b[39m=\u001b[39;49mname))\n\u001b[0;32m    382\u001b[0m \u001b[39mexcept\u001b[39;00m \u001b[39mStopIteration\u001b[39;00m:\n",
      "\u001b[1;31mStopIteration\u001b[0m: ",
      "\nDuring handling of the above exception, another exception occurred:\n",
      "\u001b[1;31mPackageNotFoundError\u001b[0m                      Traceback (most recent call last)",
      "Cell \u001b[1;32mIn [2], line 1\u001b[0m\n\u001b[1;32m----> 1\u001b[0m \u001b[39mfrom\u001b[39;00m \u001b[39mibm_watson_machine_learning\u001b[39;00m \u001b[39mimport\u001b[39;00m APIClient\n\u001b[0;32m      2\u001b[0m wml_credentials \u001b[39m=\u001b[39m {\n\u001b[0;32m      3\u001b[0m     \u001b[39m\"\u001b[39m\u001b[39murl\u001b[39m\u001b[39m\"\u001b[39m : \u001b[39m\"\u001b[39m\u001b[39mhttps://us-south.ml.cloud.ibm.com\u001b[39m\u001b[39m\"\u001b[39m,\n\u001b[0;32m      4\u001b[0m     \u001b[39m\"\u001b[39m\u001b[39mapikey\u001b[39m\u001b[39m\"\u001b[39m : \u001b[39m\"\u001b[39m\u001b[39mT7rpH1KfTn-s-zfDCmTyeArxYrcvFGHFV21qTDW5pf5x\u001b[39m\u001b[39m\"\u001b[39m\n\u001b[0;32m      5\u001b[0m }\n\u001b[0;32m      6\u001b[0m client \u001b[39m=\u001b[39m APIClient(wml_credentials)\n",
      "File \u001b[1;32m~\\AppData\\Local\\Packages\\PythonSoftwareFoundation.Python.3.10_qbz5n2kfra8p0\\LocalCache\\local-packages\\Python310\\site-packages\\ibm_watson_machine_learning\\__init__.py:23\u001b[0m\n\u001b[0;32m     21\u001b[0m \u001b[39mexcept\u001b[39;00m (\u001b[39mModuleNotFoundError\u001b[39;00m, \u001b[39mAttributeError\u001b[39;00m):\n\u001b[0;32m     22\u001b[0m     \u001b[39mfrom\u001b[39;00m \u001b[39mimportlib_metadata\u001b[39;00m \u001b[39mimport\u001b[39;00m version \u001b[39mas\u001b[39;00m imp_lib_ver\n\u001b[1;32m---> 23\u001b[0m     version \u001b[39m=\u001b[39m imp_lib_ver(pkg_name)\n\u001b[0;32m     25\u001b[0m \u001b[39mfrom\u001b[39;00m \u001b[39mibm_watson_machine_learning\u001b[39;00m\u001b[39m.\u001b[39;00m\u001b[39mclient\u001b[39;00m \u001b[39mimport\u001b[39;00m APIClient\n\u001b[0;32m     26\u001b[0m APIClient\u001b[39m.\u001b[39mversion \u001b[39m=\u001b[39m version\n",
      "File \u001b[1;32m~\\AppData\\Local\\Packages\\PythonSoftwareFoundation.Python.3.10_qbz5n2kfra8p0\\LocalCache\\local-packages\\Python310\\site-packages\\importlib_metadata\\__init__.py:832\u001b[0m, in \u001b[0;36mversion\u001b[1;34m(distribution_name)\u001b[0m\n\u001b[0;32m    825\u001b[0m \u001b[39mdef\u001b[39;00m \u001b[39mversion\u001b[39m(distribution_name):\n\u001b[0;32m    826\u001b[0m     \u001b[39m\"\"\"Get the version string for the named package.\u001b[39;00m\n\u001b[0;32m    827\u001b[0m \n\u001b[0;32m    828\u001b[0m \u001b[39m    :param distribution_name: The name of the distribution package to query.\u001b[39;00m\n\u001b[0;32m    829\u001b[0m \u001b[39m    :return: The version string for the package as defined in the package's\u001b[39;00m\n\u001b[0;32m    830\u001b[0m \u001b[39m        \"Version\" metadata key.\u001b[39;00m\n\u001b[0;32m    831\u001b[0m \u001b[39m    \"\"\"\u001b[39;00m\n\u001b[1;32m--> 832\u001b[0m     \u001b[39mreturn\u001b[39;00m distribution(distribution_name)\u001b[39m.\u001b[39mversion\n",
      "File \u001b[1;32m~\\AppData\\Local\\Packages\\PythonSoftwareFoundation.Python.3.10_qbz5n2kfra8p0\\LocalCache\\local-packages\\Python310\\site-packages\\importlib_metadata\\__init__.py:805\u001b[0m, in \u001b[0;36mdistribution\u001b[1;34m(distribution_name)\u001b[0m\n\u001b[0;32m    799\u001b[0m \u001b[39mdef\u001b[39;00m \u001b[39mdistribution\u001b[39m(distribution_name):\n\u001b[0;32m    800\u001b[0m     \u001b[39m\"\"\"Get the ``Distribution`` instance for the named package.\u001b[39;00m\n\u001b[0;32m    801\u001b[0m \n\u001b[0;32m    802\u001b[0m \u001b[39m    :param distribution_name: The name of the distribution package as a string.\u001b[39;00m\n\u001b[0;32m    803\u001b[0m \u001b[39m    :return: A ``Distribution`` instance (or subclass thereof).\u001b[39;00m\n\u001b[0;32m    804\u001b[0m \u001b[39m    \"\"\"\u001b[39;00m\n\u001b[1;32m--> 805\u001b[0m     \u001b[39mreturn\u001b[39;00m Distribution\u001b[39m.\u001b[39;49mfrom_name(distribution_name)\n",
      "File \u001b[1;32m~\\AppData\\Local\\Packages\\PythonSoftwareFoundation.Python.3.10_qbz5n2kfra8p0\\LocalCache\\local-packages\\Python310\\site-packages\\importlib_metadata\\__init__.py:383\u001b[0m, in \u001b[0;36mDistribution.from_name\u001b[1;34m(cls, name)\u001b[0m\n\u001b[0;32m    381\u001b[0m     \u001b[39mreturn\u001b[39;00m \u001b[39mnext\u001b[39m(\u001b[39mcls\u001b[39m\u001b[39m.\u001b[39mdiscover(name\u001b[39m=\u001b[39mname))\n\u001b[0;32m    382\u001b[0m \u001b[39mexcept\u001b[39;00m \u001b[39mStopIteration\u001b[39;00m:\n\u001b[1;32m--> 383\u001b[0m     \u001b[39mraise\u001b[39;00m PackageNotFoundError(name)\n",
      "\u001b[1;31mPackageNotFoundError\u001b[0m: No package metadata was found for ibm-watson-machine-learning"
     ]
    },
    {
     "ename": "",
     "evalue": "",
     "output_type": "error",
     "traceback": [
      "\u001b[1;31mThe Kernel crashed while executing code in the the current cell or a previous cell. Please review the code in the cell(s) to identify a possible cause of the failure. Click <a href='https://aka.ms/vscodeJupyterKernelCrash'>here</a> for more info. View Jupyter <a href='command:jupyter.viewOutput'>log</a> for further details."
     ]
    }
   ],
   "source": [
    "from ibm_watson_machine_learning import APIClient\n",
    "wml_credentials = {\n",
    "    \"url\" : \"https://us-south.ml.cloud.ibm.com\",\n",
    "    \"apikey\" : \"T7rpH1KfTn-s-zfDCmTyeArxYrcvFGHFV21qTDW5pf5x\"\n",
    "}\n",
    "client = APIClient(wml_credentials)"
   ]
  },
  {
   "cell_type": "code",
   "execution_count": null,
   "id": "11c74eba",
   "metadata": {},
   "outputs": [],
   "source": [
    "def guid_space_name(client, ai_based_real_time_communication_deploy_space):\n",
    "    space = client.spaces.get_details()\n",
    "    return(next(item for item in space['resources'] if item['entity']['name'] == ai_based_real_time_communication_deploy_space)['metadata']['id'])"
   ]
  },
  {
   "cell_type": "code",
   "execution_count": null,
   "id": "7e65883f",
   "metadata": {},
   "outputs": [
    {
     "data": {
      "text/plain": [
       "'1853d74e-ca3c-4075-81e3-d5cdd0741a52'"
      ]
     },
     "execution_count": 4,
     "metadata": {},
     "output_type": "execute_result"
    }
   ],
   "source": [
    "space_id = guid_space_name(client, 'ai_based_real_time_communication_deploy_space')\n",
    "space_id"
   ]
  },
  {
   "cell_type": "code",
   "execution_count": null,
   "id": "416d45c5",
   "metadata": {},
   "outputs": [
    {
     "data": {
      "text/plain": [
       "'SUCCESS'"
      ]
     },
     "execution_count": 5,
     "metadata": {},
     "output_type": "execute_result"
    }
   ],
   "source": [
    "client.set.default_space(space_id)"
   ]
  },
  {
   "cell_type": "code",
   "execution_count": null,
   "id": "75376578",
   "metadata": {},
   "outputs": [
    {
     "name": "stdout",
     "output_type": "stream",
     "text": [
      "Successfully saved model content to file: 'ai-based-real-time-classification-model.h5'\n"
     ]
    },
    {
     "data": {
      "text/plain": [
       "'D:\\\\Maheshfiles\\\\Studies\\\\Smart Bridge\\\\AI-ML-DL Project/ai-based-real-time-classification-model.h5'"
      ]
     },
     "execution_count": 6,
     "metadata": {},
     "output_type": "execute_result"
    }
   ],
   "source": [
    "client.repository.download('59b18265-3a03-47d3-b2d8-d9a0c5106f05', 'ai-based-real-time-classification-model.h5')"
   ]
  },
  {
   "cell_type": "code",
   "execution_count": null,
   "id": "fc4ac1b5",
   "metadata": {},
   "outputs": [],
   "source": []
  }
 ],
 "metadata": {
  "kernelspec": {
   "display_name": "Python 3.10.6 64-bit (microsoft store)",
   "language": "python",
   "name": "python3"
  },
  "language_info": {
   "codemirror_mode": {
    "name": "ipython",
    "version": 3
   },
   "file_extension": ".py",
   "mimetype": "text/x-python",
   "name": "python",
   "nbconvert_exporter": "python",
   "pygments_lexer": "ipython3",
   "version": "3.10.6"
  },
  "vscode": {
   "interpreter": {
    "hash": "624741679a3ae5d99cecf49b8df5d516a7a937e6e7328e129d1fa121c8592e26"
   }
  }
 },
 "nbformat": 4,
 "nbformat_minor": 5
}
